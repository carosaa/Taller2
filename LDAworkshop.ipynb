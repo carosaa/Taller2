{
 "metadata": {
  "name": "",
  "signature": "sha256:8e1d55f8f678877ec92e7f625b8db3ce2adcfd7dbfca40d026af51ba712a2fe5"
 },
 "nbformat": 3,
 "nbformat_minor": 0,
 "worksheets": [
  {
   "cells": [
    {
     "cell_type": "code",
     "collapsed": false,
     "input": [
      "import numpy as np\n",
      "import pylab\n",
      "import numpy as np\n",
      "from sklearn.lda import LDA\n",
      "import pandas as pd"
     ],
     "language": "python",
     "metadata": {},
     "outputs": [],
     "prompt_number": 1
    },
    {
     "cell_type": "code",
     "collapsed": false,
     "input": [
      "X = [[2, 3],[3, 4],[4, 5],[5, 6],[5, 7],[2, 1],[3, 2],[4, 2],[4, 3],[6, 4],[7, 6]]\n",
      "c = [1, 1, 1, 1, 1, 2, 2, 2, 2, 2, 2]\n",
      "\n",
      "xnumpy = np.array(X)\n",
      "cnumpy = np.array(c)\n",
      "\n",
      "#Separa los datos de cada clase\n",
      "c1 = xnumpy[np.where(cnumpy == 1)]#clase 1\n",
      "c2 = xnumpy[np.where(cnumpy == 2)]#Clase 2\n",
      "\n",
      "#Grafica los datos\n",
      "pylab.rcParams['figure.figsize'] = (12.0, 10.0)\n",
      "pylab.plot(c1[:,0], c1[:,1], 'r*')\n",
      "pylab.plot(c2[:,0], c2[:,1], 'g*')\n",
      "\n",
      "#Calcular la media total de los datos\n",
      "#mu_total = \n",
      "\n",
      "#Calcular la media de cada clase y agruparlas en una matriz \n",
      "#mu = \n",
      "\n",
      "#Calcular Sw (X - mu[c,:])'*(X - mu(c,:))\n",
      "\n",
      "#Calcular Sb=(mu(2,:)-mu(1,:))'*(mu(2,:)-mu(1,:));\n",
      "\n",
      "#Calcular los eigenvectors y eigenvalues \n",
      "\n",
      "#Ordenar los eigenvalues en orden descendente\n",
      "\n",
      "#Graficar el plano encontrado\n",
      "\n",
      "##Graficar la proyeccion de los datos en el plano\n",
      "#Xm = np.subtract(X, mu_total)\n",
      "#z = np.dot(Xm , V[:,0])\n",
      "#p = np.dot(z.reshape(11,1), V[:,0].T.reshape(1,2))\n",
      "#p = np.add(p, mu_total)\n",
      "#y1 = p[np.where(cnumpy == 1)]\n",
      "#y2 = p[np.where(cnumpy == 2)]\n",
      "#pylab.plot([mu_total[0] - 5*V[0,0], mu_total[0] + 5*V[0,0]], [mu_total[1] - 5*V[1,0], mu_total[1] + 5*V[1,0]], color='b', marker='o')"
     ],
     "language": "python",
     "metadata": {},
     "outputs": [
      {
       "metadata": {},
       "output_type": "pyout",
       "prompt_number": 11,
       "text": [
        "[<matplotlib.lines.Line2D at 0x10929a490>]"
       ]
      },
      {
       "metadata": {},
       "output_type": "display_data",
       "png": "[encoded data removed]",
       "text": [
        "<matplotlib.figure.Figure at 0x10929a450>"
       ]
      }
     ],
     "prompt_number": 11
    },
    {
     "cell_type": "code",
     "collapsed": false,
     "input": [
      "#Graficar los datos en y1 y y2 proyectados en el plano \n"
     ],
     "language": "python",
     "metadata": {},
     "outputs": [],
     "prompt_number": 8
    },
    {
     "cell_type": "code",
     "collapsed": false,
     "input": [
      "#Analizar el siguiente codigo \n",
      "X = [[2, 3],[3, 4],[4, 5],[5, 6],[5, 7],[2, 1],[3, 2],[4, 2],[4, 3],[6, 4],[7, 6]]\n",
      "c = [1, 1, 1, 1, 1, 2, 2, 2, 2, 2, 2]\n",
      "xnumpy = np.array(X)\n",
      "cnumpy = np.array(c)\n",
      "clf = LDA()\n",
      "clf.fit(X, c)\n",
      "LDA(n_components=None, priors=None)\n",
      "print(clf.predict([[2, 4]]))\n",
      "print(clf.predict([[3, 2]]))"
     ],
     "language": "python",
     "metadata": {},
     "outputs": [
      {
       "output_type": "stream",
       "stream": "stdout",
       "text": [
        "[1]\n",
        "[2]\n"
       ]
      }
     ],
     "prompt_number": 12
    },
    {
     "cell_type": "code",
     "collapsed": false,
     "input": [
      "#Aplicar LDA a la base de datos del Parkinson \n",
      "D = pd.read_csv('parkinson.csv')"
     ],
     "language": "python",
     "metadata": {},
     "outputs": [],
     "prompt_number": 2
    },
    {
     "cell_type": "code",
     "collapsed": false,
     "input": [],
     "language": "python",
     "metadata": {},
     "outputs": [],
     "prompt_number": 2
    },
    {
     "cell_type": "code",
     "collapsed": false,
     "input": [],
     "language": "python",
     "metadata": {},
     "outputs": []
    }
   ],
   "metadata": {}
  }
 ]
}